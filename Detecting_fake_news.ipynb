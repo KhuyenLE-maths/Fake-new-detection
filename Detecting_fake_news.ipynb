{
  "nbformat": 4,
  "nbformat_minor": 0,
  "metadata": {
    "colab": {
      "name": "Detecting fake news.ipynb",
      "provenance": [],
      "collapsed_sections": [],
      "authorship_tag": "ABX9TyPAtgUp2FNu/iLOvIJ89qWw",
      "include_colab_link": true
    },
    "kernelspec": {
      "name": "python3",
      "display_name": "Python 3"
    }
  },
  "cells": [
    {
      "cell_type": "markdown",
      "metadata": {
        "id": "view-in-github",
        "colab_type": "text"
      },
      "source": [
        "<a href=\"https://colab.research.google.com/github/KhuyenLE-maths/Fake-new-detection/blob/main/Detecting_fake_news.ipynb\" target=\"_parent\"><img src=\"https://colab.research.google.com/assets/colab-badge.svg\" alt=\"Open In Colab\"/></a>"
      ]
    },
    {
      "cell_type": "code",
      "metadata": {
        "id": "k_fh2zQF5gbw",
        "colab": {
          "base_uri": "https://localhost:8080/"
        },
        "outputId": "05a7961e-8749-4e77-e74a-d1e5da7fc9f9"
      },
      "source": [
        "from google.colab import drive \n",
        "drive.mount('/content/drive/')"
      ],
      "execution_count": 41,
      "outputs": [
        {
          "output_type": "stream",
          "text": [
            "Drive already mounted at /content/drive/; to attempt to forcibly remount, call drive.mount(\"/content/drive/\", force_remount=True).\n"
          ],
          "name": "stdout"
        }
      ]
    },
    {
      "cell_type": "code",
      "metadata": {
        "id": "AZM8wLO17KoD",
        "colab": {
          "base_uri": "https://localhost:8080/",
          "height": 35
        },
        "outputId": "655c0d4d-8e56-491d-c640-76cfbd25ccc4"
      },
      "source": [
        "import os\n",
        "os.chdir('/content/drive/My Drive/Detecting fake news/')\n",
        "os.getcwd()"
      ],
      "execution_count": 42,
      "outputs": [
        {
          "output_type": "execute_result",
          "data": {
            "application/vnd.google.colaboratory.intrinsic+json": {
              "type": "string"
            },
            "text/plain": [
              "'/content/drive/My Drive/Detecting fake news'"
            ]
          },
          "metadata": {
            "tags": []
          },
          "execution_count": 42
        }
      ]
    },
    {
      "cell_type": "markdown",
      "metadata": {
        "id": "IcwOU2s47mkb"
      },
      "source": [
        "Unzip the data file"
      ]
    },
    {
      "cell_type": "code",
      "metadata": {
        "id": "1SPW4yzB7KrB"
      },
      "source": [
        "import zipfile\n",
        "with zipfile.ZipFile(\"news.zip\",\"r\") as zip_ref:\n",
        "  zip_ref.extractall('/content/drive/My Drive/Detecting fake news/')"
      ],
      "execution_count": 43,
      "outputs": []
    },
    {
      "cell_type": "markdown",
      "metadata": {
        "id": "Bj_T0m7WAFrL"
      },
      "source": [
        "Importing libraries"
      ]
    },
    {
      "cell_type": "code",
      "metadata": {
        "id": "EM91z-Qz7Kts"
      },
      "source": [
        "import numpy as np\n",
        "import pandas as pd \n",
        "import itertools\n",
        "from sklearn.model_selection import train_test_split\n",
        "from sklearn.feature_extraction.text import TfidfVectorizer\n",
        "from sklearn.linear_model import PassiveAggressiveClassifier\n",
        "from sklearn.metrics import accuracy_score, confusion_matrix"
      ],
      "execution_count": 44,
      "outputs": []
    },
    {
      "cell_type": "markdown",
      "metadata": {
        "id": "XGsIyXgLAnbi"
      },
      "source": [
        "Read the data"
      ]
    },
    {
      "cell_type": "code",
      "metadata": {
        "id": "Ceo5GhLzBA_w",
        "colab": {
          "base_uri": "https://localhost:8080/"
        },
        "outputId": "4e4b6f91-c421-45ae-9590-98392f37e7e3"
      },
      "source": [
        "L = os.getcwd()\n",
        "print(os.listdir(L))"
      ],
      "execution_count": 45,
      "outputs": [
        {
          "output_type": "stream",
          "text": [
            "['Copy of Detecting fake news.ipynb', 'news.zip', 'news.csv', 'Untitled', 'Detecting fake news.ipynb']\n"
          ],
          "name": "stdout"
        }
      ]
    },
    {
      "cell_type": "code",
      "metadata": {
        "id": "1pZq131W7Kwm"
      },
      "source": [
        "df = pd.read_csv('news.csv')"
      ],
      "execution_count": 46,
      "outputs": []
    },
    {
      "cell_type": "code",
      "metadata": {
        "id": "DtuyFmmPBCm5",
        "colab": {
          "base_uri": "https://localhost:8080/",
          "height": 195
        },
        "outputId": "dc8e0c0a-421b-491a-a9f0-f375f90d9636"
      },
      "source": [
        "df.head()"
      ],
      "execution_count": 47,
      "outputs": [
        {
          "output_type": "execute_result",
          "data": {
            "text/html": [
              "<div>\n",
              "<style scoped>\n",
              "    .dataframe tbody tr th:only-of-type {\n",
              "        vertical-align: middle;\n",
              "    }\n",
              "\n",
              "    .dataframe tbody tr th {\n",
              "        vertical-align: top;\n",
              "    }\n",
              "\n",
              "    .dataframe thead th {\n",
              "        text-align: right;\n",
              "    }\n",
              "</style>\n",
              "<table border=\"1\" class=\"dataframe\">\n",
              "  <thead>\n",
              "    <tr style=\"text-align: right;\">\n",
              "      <th></th>\n",
              "      <th>Unnamed: 0</th>\n",
              "      <th>title</th>\n",
              "      <th>text</th>\n",
              "      <th>label</th>\n",
              "    </tr>\n",
              "  </thead>\n",
              "  <tbody>\n",
              "    <tr>\n",
              "      <th>0</th>\n",
              "      <td>8476</td>\n",
              "      <td>You Can Smell Hillary’s Fear</td>\n",
              "      <td>Daniel Greenfield, a Shillman Journalism Fello...</td>\n",
              "      <td>FAKE</td>\n",
              "    </tr>\n",
              "    <tr>\n",
              "      <th>1</th>\n",
              "      <td>10294</td>\n",
              "      <td>Watch The Exact Moment Paul Ryan Committed Pol...</td>\n",
              "      <td>Google Pinterest Digg Linkedin Reddit Stumbleu...</td>\n",
              "      <td>FAKE</td>\n",
              "    </tr>\n",
              "    <tr>\n",
              "      <th>2</th>\n",
              "      <td>3608</td>\n",
              "      <td>Kerry to go to Paris in gesture of sympathy</td>\n",
              "      <td>U.S. Secretary of State John F. Kerry said Mon...</td>\n",
              "      <td>REAL</td>\n",
              "    </tr>\n",
              "    <tr>\n",
              "      <th>3</th>\n",
              "      <td>10142</td>\n",
              "      <td>Bernie supporters on Twitter erupt in anger ag...</td>\n",
              "      <td>— Kaydee King (@KaydeeKing) November 9, 2016 T...</td>\n",
              "      <td>FAKE</td>\n",
              "    </tr>\n",
              "    <tr>\n",
              "      <th>4</th>\n",
              "      <td>875</td>\n",
              "      <td>The Battle of New York: Why This Primary Matters</td>\n",
              "      <td>It's primary day in New York and front-runners...</td>\n",
              "      <td>REAL</td>\n",
              "    </tr>\n",
              "  </tbody>\n",
              "</table>\n",
              "</div>"
            ],
            "text/plain": [
              "   Unnamed: 0  ... label\n",
              "0        8476  ...  FAKE\n",
              "1       10294  ...  FAKE\n",
              "2        3608  ...  REAL\n",
              "3       10142  ...  FAKE\n",
              "4         875  ...  REAL\n",
              "\n",
              "[5 rows x 4 columns]"
            ]
          },
          "metadata": {
            "tags": []
          },
          "execution_count": 47
        }
      ]
    },
    {
      "cell_type": "code",
      "metadata": {
        "id": "g3Cc9DeKBCpf",
        "colab": {
          "base_uri": "https://localhost:8080/"
        },
        "outputId": "b7db28c3-558a-455e-9493-b81f0982f260"
      },
      "source": [
        "df.shape"
      ],
      "execution_count": 48,
      "outputs": [
        {
          "output_type": "execute_result",
          "data": {
            "text/plain": [
              "(6335, 4)"
            ]
          },
          "metadata": {
            "tags": []
          },
          "execution_count": 48
        }
      ]
    },
    {
      "cell_type": "markdown",
      "metadata": {
        "id": "PQueQ7Txo_Ns"
      },
      "source": [
        "The number of fake news"
      ]
    },
    {
      "cell_type": "code",
      "metadata": {
        "colab": {
          "base_uri": "https://localhost:8080/"
        },
        "id": "UjKhw_EpofIq",
        "outputId": "50706eb9-2e6f-4d88-be62-5107ac0466fa"
      },
      "source": [
        "sum(df['label'] == 'FAKE')"
      ],
      "execution_count": 49,
      "outputs": [
        {
          "output_type": "execute_result",
          "data": {
            "text/plain": [
              "3164"
            ]
          },
          "metadata": {
            "tags": []
          },
          "execution_count": 49
        }
      ]
    },
    {
      "cell_type": "markdown",
      "metadata": {
        "id": "sjSu8nPfpDzq"
      },
      "source": [
        "The number of real news"
      ]
    },
    {
      "cell_type": "code",
      "metadata": {
        "colab": {
          "base_uri": "https://localhost:8080/"
        },
        "id": "AFN18Ceboj1u",
        "outputId": "fd6f0b9f-29e8-4479-f7fc-4eb56da1405e"
      },
      "source": [
        "sum(df['label'] == 'REAL')"
      ],
      "execution_count": 50,
      "outputs": [
        {
          "output_type": "execute_result",
          "data": {
            "text/plain": [
              "3171"
            ]
          },
          "metadata": {
            "tags": []
          },
          "execution_count": 50
        }
      ]
    },
    {
      "cell_type": "code",
      "metadata": {
        "id": "HIjiDVtPBrKe",
        "colab": {
          "base_uri": "https://localhost:8080/"
        },
        "outputId": "15c2ddc5-c39e-4a12-d0f5-4185025dc4b2"
      },
      "source": [
        "df.isnull().values.any()"
      ],
      "execution_count": 51,
      "outputs": [
        {
          "output_type": "execute_result",
          "data": {
            "text/plain": [
              "False"
            ]
          },
          "metadata": {
            "tags": []
          },
          "execution_count": 51
        }
      ]
    },
    {
      "cell_type": "markdown",
      "metadata": {
        "id": "MQybdwMpCSQ2"
      },
      "source": [
        "Get the labels from the data frame"
      ]
    },
    {
      "cell_type": "code",
      "metadata": {
        "id": "x0nsE7mcBrIx",
        "colab": {
          "base_uri": "https://localhost:8080/"
        },
        "outputId": "73655b08-017e-4a37-a0e2-460252f68fb7"
      },
      "source": [
        "labels = df.label\n",
        "print(labels)"
      ],
      "execution_count": 52,
      "outputs": [
        {
          "output_type": "stream",
          "text": [
            "0       FAKE\n",
            "1       FAKE\n",
            "2       REAL\n",
            "3       FAKE\n",
            "4       REAL\n",
            "        ... \n",
            "6330    REAL\n",
            "6331    FAKE\n",
            "6332    FAKE\n",
            "6333    REAL\n",
            "6334    REAL\n",
            "Name: label, Length: 6335, dtype: object\n"
          ],
          "name": "stdout"
        }
      ]
    },
    {
      "cell_type": "markdown",
      "metadata": {
        "id": "meJHkvBFCi7h"
      },
      "source": [
        "Split the dataset into training and testing sets"
      ]
    },
    {
      "cell_type": "code",
      "metadata": {
        "id": "BHvEboydBCvc"
      },
      "source": [
        "x_train, x_test, y_train, y_test = train_test_split(df['text'], labels, test_size = 0.2, random_state =5)"
      ],
      "execution_count": 53,
      "outputs": []
    },
    {
      "cell_type": "markdown",
      "metadata": {
        "id": "bOyazuhrC3Eg"
      },
      "source": [
        "Initialize a TfidfVectorizer\n",
        "\n",
        "Fit and transform the vectorizer on the train set\n",
        "\n",
        "Transform the vectorizer on the test set"
      ]
    },
    {
      "cell_type": "code",
      "metadata": {
        "id": "AIWVWliMBCx_"
      },
      "source": [
        "tfidf_vectorizer = TfidfVectorizer(stop_words='english',max_df=0.7)\n",
        "tfidf_train = tfidf_vectorizer.fit_transform(x_train)\n",
        "tfidf_test = tfidf_vectorizer.transform(x_test)"
      ],
      "execution_count": 54,
      "outputs": []
    },
    {
      "cell_type": "markdown",
      "metadata": {
        "id": "3M6hEpUZD4NS"
      },
      "source": [
        "Initialize a PassiveAggressiveClassifier, then it this on tfidf_train, y_train"
      ]
    },
    {
      "cell_type": "code",
      "metadata": {
        "id": "FQ_mQ9j37KzT",
        "colab": {
          "base_uri": "https://localhost:8080/"
        },
        "outputId": "34326873-b530-4a3d-b2c3-819559a54c69"
      },
      "source": [
        "pac = PassiveAggressiveClassifier(max_iter = 100)\n",
        "pac.fit(tfidf_train, y_train)"
      ],
      "execution_count": 55,
      "outputs": [
        {
          "output_type": "execute_result",
          "data": {
            "text/plain": [
              "PassiveAggressiveClassifier(C=1.0, average=False, class_weight=None,\n",
              "                            early_stopping=False, fit_intercept=True,\n",
              "                            loss='hinge', max_iter=100, n_iter_no_change=5,\n",
              "                            n_jobs=None, random_state=None, shuffle=True,\n",
              "                            tol=0.001, validation_fraction=0.1, verbose=0,\n",
              "                            warm_start=False)"
            ]
          },
          "metadata": {
            "tags": []
          },
          "execution_count": 55
        }
      ]
    },
    {
      "cell_type": "markdown",
      "metadata": {
        "id": "FiMSPGFWFKm_"
      },
      "source": [
        "Predict on the test set and calculate the accuracy"
      ]
    },
    {
      "cell_type": "code",
      "metadata": {
        "id": "L19mPzBcEeNq",
        "colab": {
          "base_uri": "https://localhost:8080/"
        },
        "outputId": "beac884d-2c41-46a1-ad45-31baa29b6557"
      },
      "source": [
        "y_pred = pac.predict(tfidf_test)\n",
        "score = accuracy_score(y_test, y_pred)\n",
        "print(f'Accuracy: {round(score*100,2)}')"
      ],
      "execution_count": 56,
      "outputs": [
        {
          "output_type": "stream",
          "text": [
            "Accuracy: 94.4\n"
          ],
          "name": "stdout"
        }
      ]
    },
    {
      "cell_type": "code",
      "metadata": {
        "id": "Wqn1ns8XEeQK",
        "colab": {
          "base_uri": "https://localhost:8080/"
        },
        "outputId": "df7bfbcd-4862-4f3d-dfaf-9fd55f671a1e"
      },
      "source": [
        "confusion_matrix(y_test, y_pred, labels = ['FAKE','REAL'])"
      ],
      "execution_count": 57,
      "outputs": [
        {
          "output_type": "execute_result",
          "data": {
            "text/plain": [
              "array([[603,  34],\n",
              "       [ 37, 593]])"
            ]
          },
          "metadata": {
            "tags": []
          },
          "execution_count": 57
        }
      ]
    },
    {
      "cell_type": "code",
      "metadata": {
        "id": "4wqgBApwF5AK",
        "colab": {
          "base_uri": "https://localhost:8080/"
        },
        "outputId": "63b3acb3-a6c8-4ffc-d1df-663ebb711a86"
      },
      "source": [
        "confusion_matrix(y_test, y_pred, labels = ['REAL','FAKE'])"
      ],
      "execution_count": 58,
      "outputs": [
        {
          "output_type": "execute_result",
          "data": {
            "text/plain": [
              "array([[593,  37],\n",
              "       [ 34, 603]])"
            ]
          },
          "metadata": {
            "tags": []
          },
          "execution_count": 58
        }
      ]
    },
    {
      "cell_type": "code",
      "metadata": {
        "id": "cUxsPE9aF5Di"
      },
      "source": [
        ""
      ],
      "execution_count": 58,
      "outputs": []
    }
  ]
}